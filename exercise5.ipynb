{
  "cells": [
    {
      "cell_type": "markdown",
      "metadata": {
        "colab_type": "text",
        "id": "view-in-github"
      },
      "source": [
        "<a href=\"https://colab.research.google.com/github/albertocj1/CCDATRCL_ASSIGNMENT_COM222/blob/main/exercise5.ipynb\" target=\"_parent\"><img src=\"https://colab.research.google.com/assets/colab-badge.svg\" alt=\"Open In Colab\"/></a>"
      ]
    },
    {
      "cell_type": "markdown",
      "metadata": {
        "id": "DN15rkKvhGBr"
      },
      "source": [
        "# Exercise 5"
      ]
    },
    {
      "cell_type": "markdown",
      "metadata": {
        "id": "oEys_5t7hGBt"
      },
      "source": [
        "#### 1. Create a dictionary of your 10 favorite songs."
      ]
    },
    {
      "cell_type": "markdown",
      "metadata": {
        "id": "T1iOtzXshGBu"
      },
      "source": [
        "Example:\n",
        "\n",
        "|KEY|VALUE|\n",
        "|---|---|\n",
        "|001|My Love|\n",
        "|002|Like a rose|"
      ]
    },
    {
      "cell_type": "code",
      "execution_count": 133,
      "metadata": {
        "id": "dprOhMRchGBu"
      },
      "outputs": [
        {
          "name": "stdout",
          "output_type": "stream",
          "text": [
            "{'001': 'Backburner', '002': 'Seasons', '003': 'August', '004': 'Burnout', '005': 'Ere', '006': 'Last Kiss', '007': 'I almost do', '008': 'About you', '009': 'All too well', '010': 'Oceans and Engines'}\n"
          ]
        }
      ],
      "source": [
        "myPlaylist = {\n",
        "    \"001\": \"Backburner\",\n",
        "    \"002\": \"Seasons\",\n",
        "    \"003\": \"August\",\n",
        "    \"004\": \"Burnout\",\n",
        "    \"005\": \"Ere\",\n",
        "    \"006\": \"Last Kiss\",\n",
        "    \"007\": \"I almost do\",\n",
        "    \"008\": \"About you\",\n",
        "    \"009\": \"All too well\",\n",
        "    \"010\": \"Oceans and Engines\"\n",
        "}\n",
        "\n",
        "print(myPlaylist)"
      ]
    },
    {
      "cell_type": "markdown",
      "metadata": {
        "id": "g1FstA7XhGBv"
      },
      "source": [
        "#### 2. Loop through the dictionary by its **key** and **value**"
      ]
    },
    {
      "cell_type": "code",
      "execution_count": 134,
      "metadata": {
        "id": "QgyUTiuHhGBv"
      },
      "outputs": [
        {
          "name": "stdout",
          "output_type": "stream",
          "text": [
            "001 Backburner\n",
            "002 Seasons\n",
            "003 August\n",
            "004 Burnout\n",
            "005 Cornelia Street\n",
            "006 Last Kiss\n",
            "007 I almost do\n",
            "008 About you\n",
            "009 All too well\n",
            "010 Oceans and Engines\n"
          ]
        }
      ],
      "source": [
        "myPlaylist = {\n",
        "    \"001\": \"Backburner\",\n",
        "    \"002\": \"Seasons\",\n",
        "    \"003\": \"August\",\n",
        "    \"004\": \"Burnout\",\n",
        "    \"005\": \"Cornelia Street\",\n",
        "    \"006\": \"Last Kiss\",\n",
        "    \"007\": \"I almost do\",\n",
        "    \"008\": \"About you\",\n",
        "    \"009\": \"All too well\",\n",
        "    \"010\": \"Oceans and Engines\"\n",
        "}\n",
        "# Loops into myPlaylist and prints all values\n",
        "for x, y in myPlaylist.items():\n",
        "  print(x, y)\n"
      ]
    },
    {
      "cell_type": "markdown",
      "metadata": {
        "id": "h5N_w8-yhGBw"
      },
      "source": [
        "#### 3. Add one additional song"
      ]
    },
    {
      "cell_type": "code",
      "execution_count": 135,
      "metadata": {
        "id": "oUXMAJWEhGBw"
      },
      "outputs": [
        {
          "name": "stdout",
          "output_type": "stream",
          "text": [
            "{'001': 'Backburner', '002': 'Seasons', '003': 'August', '004': 'Burnout', '005': 'Cornelia Street', '006': 'Last Kiss', '007': 'I almost do', '008': 'About you', '009': 'All too well', '010': 'Oceans and Engines', '011': 'Before it sinks in'}\n",
            "001 Backburner\n",
            "002 Seasons\n",
            "003 August\n",
            "004 Burnout\n",
            "005 Cornelia Street\n",
            "006 Last Kiss\n",
            "007 I almost do\n",
            "008 About you\n",
            "009 All too well\n",
            "010 Oceans and Engines\n",
            "011 Before it sinks in\n"
          ]
        }
      ],
      "source": [
        "# Adds one song\n",
        "myPlaylist[\"011\"] = \"Before it sinks in\"\n",
        "print(myPlaylist)\n",
        "\n",
        "for x, y in myPlaylist.items():\n",
        "    print(x,y)"
      ]
    },
    {
      "cell_type": "markdown",
      "metadata": {
        "id": "7OlW5r9dhGBx"
      },
      "source": [
        "#### 4. Remove one song"
      ]
    },
    {
      "cell_type": "code",
      "execution_count": 136,
      "metadata": {
        "id": "g39mqwpDhGBx"
      },
      "outputs": [
        {
          "name": "stdout",
          "output_type": "stream",
          "text": [
            "{'002': 'Seasons', '003': 'August', '004': 'Burnout', '005': 'Cornelia Street', '006': 'Last Kiss', '007': 'I almost do', '008': 'About you', '009': 'All too well', '010': 'Oceans and Engines', '011': 'Before it sinks in'}\n",
            "002 Seasons\n",
            "003 August\n",
            "004 Burnout\n",
            "005 Cornelia Street\n",
            "006 Last Kiss\n",
            "007 I almost do\n",
            "008 About you\n",
            "009 All too well\n",
            "010 Oceans and Engines\n",
            "011 Before it sinks in\n"
          ]
        }
      ],
      "source": [
        "# Removes the first song\n",
        "myPlaylist.pop(\"001\")\n",
        "print(myPlaylist)\n",
        "\n",
        "for x,y in myPlaylist.items():\n",
        "    print(x,y)\n"
      ]
    },
    {
      "cell_type": "markdown",
      "metadata": {
        "id": "gZ8Sr1bzhGBy"
      },
      "source": [
        "#### 5. Create a nested dictionary of your 10 favorite songs with 5 genres. Display all of the items of the nested dictionary\n",
        "\n",
        "- Each nested dictionary's key should be the genre of the song\n",
        "- Put each song in their respective genre"
      ]
    },
    {
      "cell_type": "markdown",
      "metadata": {
        "id": "US1ZaaSJhGBy"
      },
      "source": [
        "Example:\n",
        "\n",
        "\n",
        "|KEY|VALUE|\n",
        "|---|---|\n",
        "|Pop|{001, Baby}|\n",
        "|Rock|{001, Enter Sandman}|"
      ]
    },
    {
      "cell_type": "code",
      "execution_count": 137,
      "metadata": {
        "id": "z577KULkhGBz"
      },
      "outputs": [],
      "source": [
        "myNestedDictionary = {\n",
        "    \"Pop\": {\n",
        "        \"001\" : \"It's not living (If it's not with you)\",\n",
        "        \"002\" : \"Midnight Rain\"\n",
        "    },\n",
        "    \"OPM\": {\n",
        "        \"001\" : \"Sana\",\n",
        "        \"002\" : \"Estranghero\",\n",
        "    },\n",
        "    \"Rock\" : {\n",
        "        \"001\" : \"Bohemian Rhapsody\",\n",
        "        \"002\" : \"Thunderstruck\",\n",
        "    },\n",
        "    \"RnB\" : {\n",
        "        \"001\" : \"Miss Independent\",\n",
        "        \"002\" : \"So sick\"\n",
        "    },\n",
        "    \"Rap\" : {\n",
        "        \"001\" : \"Elevate\",\n",
        "        \"002\" : \"Rapstar\"\n",
        "    }\n",
        "}"
      ]
    },
    {
      "cell_type": "markdown",
      "metadata": {
        "id": "ZMgltzOkhGBz"
      },
      "source": [
        "#### 6. Print the first song of the first genre"
      ]
    },
    {
      "cell_type": "code",
      "execution_count": 138,
      "metadata": {
        "id": "nmXUGoNWhGBz"
      },
      "outputs": [
        {
          "name": "stdout",
          "output_type": "stream",
          "text": [
            "It's not living (If it's not with you)\n"
          ]
        }
      ],
      "source": [
        "print(myNestedDictionary[\"Pop\"][\"001\"])"
      ]
    },
    {
      "cell_type": "markdown",
      "metadata": {
        "id": "dEcgwp_ihGB0"
      },
      "source": [
        "#### 7. Print the first song of the last genre"
      ]
    },
    {
      "cell_type": "code",
      "execution_count": 139,
      "metadata": {
        "id": "ITbuWq2UhGB0"
      },
      "outputs": [
        {
          "name": "stdout",
          "output_type": "stream",
          "text": [
            "Elevate\n"
          ]
        }
      ],
      "source": [
        "print(myNestedDictionary[\"Rap\"][\"001\"])"
      ]
    }
  ],
  "metadata": {
    "colab": {
      "include_colab_link": true,
      "provenance": []
    },
    "kernelspec": {
      "display_name": "Python 3",
      "language": "python",
      "name": "python3"
    },
    "language_info": {
      "codemirror_mode": {
        "name": "ipython",
        "version": 3
      },
      "file_extension": ".py",
      "mimetype": "text/x-python",
      "name": "python",
      "nbconvert_exporter": "python",
      "pygments_lexer": "ipython3",
      "version": "3.9.13"
    },
    "orig_nbformat": 4
  },
  "nbformat": 4,
  "nbformat_minor": 0
}
